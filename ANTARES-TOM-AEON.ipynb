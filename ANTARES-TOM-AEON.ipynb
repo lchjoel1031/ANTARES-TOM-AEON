{
 "cells": [
  {
   "cell_type": "markdown",
   "metadata": {},
   "source": [
    "# Triggering observation of ANTARES locus objects with TOM\n",
    "\n",
    "<img src=\"tom.jpeg\">\n",
    "\n",
    "**This notebook requires the installation of ANTARES client (https://noao.gitlab.io/antares/client/) and TOMtoolkit (https://tom-toolkit.readthedocs.io/en/latest/introduction/getting_started.html#installing-the-tom-toolkit-and-django). For more detail on programmatic access of TOMtoolkit, please see (https://tom-toolkit.readthedocs.io/en/stable/common/scripts.html).**\n",
    "\n",
    "\n",
    "\n",
    "We can arrange follow up observations of intriguing ANTARES locus/alert using the facilities within the Astronomical Event Observatory Network (AEON). This can be conviently done with the TOMtoolkit as follows.\n",
    "\n",
    "The first step is to define the target information (name, ra, dec, etc.)"
   ]
  },
  {
   "cell_type": "code",
   "execution_count": 69,
   "metadata": {},
   "outputs": [
    {
     "name": "stdout",
     "output_type": "stream",
     "text": [
      "ANT2018c7igm 280.6927190683333 -12.904117143333334\n"
     ]
    }
   ],
   "source": [
    "from antares_client.search import get_by_id, get_by_ztf_object_id\n",
    "#get locus by ANTARES ID\n",
    "locus = get_by_id(\"ANT2018c7igm\")\n",
    "\n",
    "#get locus by ZTF ID\n",
    "#locus = get_by_ztf_id(\"ZTF18abhjrcf\")\n",
    "\n",
    "print(locus.locus_id, locus.ra, locus.dec)\n",
    "\n",
    "import os\n",
    "os.environ[\"DJANGO_ALLOW_ASYNC_UNSAFE\"] = \"true\"\n",
    "from tom_targets.models import Target\n",
    "t = Target.objects.create(name=locus.locus_id, type='SIDEREAL', ra=locus.ra, dec=locus.dec)"
   ]
  },
  {
   "cell_type": "markdown",
   "metadata": {},
   "source": [
    "We can see there is now a new target added\n",
    "\n",
    "<img src=\"tom_target.jpeg\">\n",
    "\n",
    "The next step is to populate the observation form"
   ]
  },
  {
   "cell_type": "code",
   "execution_count": 64,
   "metadata": {},
   "outputs": [],
   "source": [
    "from tom_observations.facilities.lco import LCOFacility, LCOBaseObservationForm\n",
    "\n",
    "target = Target.objects.get(name=locus.locus_id)\n",
    "\n",
    "form = LCOBaseObservationForm({\n",
    "    'name': 'Programmatic Observation',\n",
    "    'proposal': 'TOM2020A-012',\n",
    "    'ipp_value': 1.05,\n",
    "    'start': '2020-10-09T00:00:00',\n",
    "    'end': '2020-10-10T00:00:00',\n",
    "    'filter': 'R',\n",
    "    'instrument_type': '1M0-SCICAM-SINISTRO',\n",
    "    'exposure_count': 1,\n",
    "    'exposure_time': 20,\n",
    "    'max_airmass': 4.0,\n",
    "    'observation_mode': 'RAPID_RESPONSE',\n",
    "    'target_id': target.id,\n",
    "    'facility': 'LCO'\n",
    "})"
   ]
  },
  {
   "cell_type": "markdown",
   "metadata": {},
   "source": [
    "We can check if there is any error of the observation form using form.is_valid()"
   ]
  },
  {
   "cell_type": "code",
   "execution_count": 65,
   "metadata": {},
   "outputs": [
    {
     "data": {
      "text/plain": [
       "True"
      ]
     },
     "execution_count": 65,
     "metadata": {},
     "output_type": "execute_result"
    }
   ],
   "source": [
    "form.is_valid()"
   ]
  },
  {
   "cell_type": "markdown",
   "metadata": {},
   "source": [
    "Once the form is validated, we can submit it using the following command:"
   ]
  },
  {
   "cell_type": "code",
   "execution_count": 66,
   "metadata": {},
   "outputs": [
    {
     "name": "stdout",
     "output_type": "stream",
     "text": [
      "[2259759]\n"
     ]
    }
   ],
   "source": [
    "observation_ids = LCOFacility().submit_observation(form.observation_payload())\n",
    "print(observation_ids)"
   ]
  },
  {
   "cell_type": "markdown",
   "metadata": {},
   "source": [
    "We can also create a record of the observation request"
   ]
  },
  {
   "cell_type": "code",
   "execution_count": 67,
   "metadata": {},
   "outputs": [
    {
     "name": "stderr",
     "output_type": "stream",
     "text": [
      "Observation change state hook: ANT2018c7igm @ LCO from None to \n"
     ]
    },
    {
     "name": "stdout",
     "output_type": "stream",
     "text": [
      "ANT2018c7igm @ LCO\n"
     ]
    }
   ],
   "source": [
    "from tom_observations.models import ObservationRecord\n",
    "for observation_id in observation_ids:\n",
    "    record = ObservationRecord.objects.create(\n",
    "        target=target,\n",
    "        facility='LCO',\n",
    "        parameters=form.serialize_parameters(),\n",
    "        observation_id=observation_id\n",
    "    )\n",
    "    print(record)"
   ]
  },
  {
   "cell_type": "markdown",
   "metadata": {},
   "source": [
    "Now we can see a pending observation in TOM\n",
    "\n",
    "<img src=\"tom_obsrecord.jpeg\">"
   ]
  },
  {
   "cell_type": "markdown",
   "metadata": {},
   "source": [
    "We can also see the observation request at the LCO observation portal:\n",
    "    \n",
    "<img src=\"lco_request.jpeg\">    "
   ]
  },
  {
   "cell_type": "code",
   "execution_count": null,
   "metadata": {},
   "outputs": [],
   "source": []
  }
 ],
 "metadata": {
  "kernelspec": {
   "display_name": "Django Shell-Plus",
   "language": "python",
   "name": "django_extensions"
  },
  "language_info": {
   "codemirror_mode": {
    "name": "ipython",
    "version": 3
   },
   "file_extension": ".py",
   "mimetype": "text/x-python",
   "name": "python",
   "nbconvert_exporter": "python",
   "pygments_lexer": "ipython3",
   "version": "3.7.7"
  }
 },
 "nbformat": 4,
 "nbformat_minor": 4
}
